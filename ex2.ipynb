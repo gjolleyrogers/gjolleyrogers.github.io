{
  "cells": [
    {
      "cell_type": "raw",
      "metadata": {},
      "source": [
        "---\n",
        "title: Polar\n",
        "date: '2012-04-06'\n",
        "categories:\n",
        "  - Matplotlib\n",
        "  - Coordinates\n",
        "format: hugo-md\n",
        "---"
      ],
      "id": "4ae1400c"
    },
    {
      "cell_type": "markdown",
      "metadata": {},
      "source": [
        "## Polar Axis\n",
        "\n",
        "For a demonstration of a line plot on a polar axis, see @fig-polar.\n"
      ],
      "id": "48e6c168"
    },
    {
      "cell_type": "code",
      "metadata": {},
      "source": [
        "#| label: fig-polard\n",
        "#| fig-cap: A line plot on a polar axis\n",
        "#| column: margin\n",
        "import numpy as np\n",
        "import matplotlib.pyplot as plt\n",
        "\n",
        "r = np.arange(0, 2, 0.01)\n",
        "theta = 2 * np.pi * r\n",
        "fig, ax = plt.subplots(subplot_kw={'projection': 'polar'})\n",
        "ax.plot(theta, r)\n",
        "ax.set_rticks([0.5, 1, 1.5, 2])\n",
        "ax.grid(True)\n",
        "plt.show()"
      ],
      "id": "fig-polard",
      "execution_count": null,
      "outputs": []
    }
  ],
  "metadata": {
    "kernelspec": {
      "name": "python3",
      "language": "python",
      "display_name": "Python 3 (ipykernel)"
    }
  },
  "nbformat": 4,
  "nbformat_minor": 5
}